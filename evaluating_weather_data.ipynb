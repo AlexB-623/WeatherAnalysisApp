{
 "cells": [
  {
   "cell_type": "code",
   "id": "initial_id",
   "metadata": {
    "collapsed": true,
    "ExecuteTime": {
     "end_time": "2025-01-07T13:51:04.926406Z",
     "start_time": "2025-01-07T13:51:04.921121Z"
    }
   },
   "source": [
    "import call_for_data\n",
    "import pandas as pd\n",
    "import matplotlib.pyplot as plt\n"
   ],
   "outputs": [],
   "execution_count": 22
  },
  {
   "metadata": {
    "ExecuteTime": {
     "end_time": "2025-01-07T13:51:05.532890Z",
     "start_time": "2025-01-07T13:51:04.969959Z"
    }
   },
   "cell_type": "code",
   "source": [
    "df1= None\n",
    "df1 = call_for_data.make_master_dataframe(\"milwaukee\", 6, 23)"
   ],
   "id": "870d1c840b5634f6",
   "outputs": [],
   "execution_count": 23
  },
  {
   "metadata": {
    "ExecuteTime": {
     "end_time": "2025-01-07T13:51:05.559689Z",
     "start_time": "2025-01-07T13:51:05.548429Z"
    }
   },
   "cell_type": "code",
   "source": [
    "test_frame = df1\n",
    "test_frame"
   ],
   "id": "742c3beddff0aea8",
   "outputs": [
    {
     "data": {
      "text/plain": [
       "                   date  temperature_2m  precipitation  cloud_cover  \\\n",
       "0   2024-06-16 06:00:00       69.266304            0.0        100.0   \n",
       "1   2024-06-16 07:00:00       68.366302            0.0         99.0   \n",
       "2   2024-06-16 08:00:00       68.006302            0.0        100.0   \n",
       "3   2024-06-16 09:00:00       68.186302            0.0        100.0   \n",
       "4   2024-06-16 10:00:00       67.556297            0.0        100.0   \n",
       "..                  ...             ...            ...          ...   \n",
       "355 1981-07-01 01:00:00       62.834000            0.0          0.0   \n",
       "356 1981-07-01 02:00:00       62.293999            0.0          0.0   \n",
       "357 1981-07-01 03:00:00       62.203999            0.0          0.0   \n",
       "358 1981-07-01 04:00:00       62.473995            0.0          3.0   \n",
       "359 1981-07-01 05:00:00       63.014000            0.0          9.0   \n",
       "\n",
       "     wind_speed_100m  \n",
       "0          35.516148  \n",
       "1          36.224300  \n",
       "2          35.900860  \n",
       "3          35.391861  \n",
       "4          35.690872  \n",
       "..               ...  \n",
       "355        32.217484  \n",
       "356        33.626774  \n",
       "357        34.322937  \n",
       "358        33.651817  \n",
       "359        32.058197  \n",
       "\n",
       "[15840 rows x 5 columns]"
      ],
      "text/html": [
       "<div>\n",
       "<style scoped>\n",
       "    .dataframe tbody tr th:only-of-type {\n",
       "        vertical-align: middle;\n",
       "    }\n",
       "\n",
       "    .dataframe tbody tr th {\n",
       "        vertical-align: top;\n",
       "    }\n",
       "\n",
       "    .dataframe thead th {\n",
       "        text-align: right;\n",
       "    }\n",
       "</style>\n",
       "<table border=\"1\" class=\"dataframe\">\n",
       "  <thead>\n",
       "    <tr style=\"text-align: right;\">\n",
       "      <th></th>\n",
       "      <th>date</th>\n",
       "      <th>temperature_2m</th>\n",
       "      <th>precipitation</th>\n",
       "      <th>cloud_cover</th>\n",
       "      <th>wind_speed_100m</th>\n",
       "    </tr>\n",
       "  </thead>\n",
       "  <tbody>\n",
       "    <tr>\n",
       "      <th>0</th>\n",
       "      <td>2024-06-16 06:00:00</td>\n",
       "      <td>69.266304</td>\n",
       "      <td>0.0</td>\n",
       "      <td>100.0</td>\n",
       "      <td>35.516148</td>\n",
       "    </tr>\n",
       "    <tr>\n",
       "      <th>1</th>\n",
       "      <td>2024-06-16 07:00:00</td>\n",
       "      <td>68.366302</td>\n",
       "      <td>0.0</td>\n",
       "      <td>99.0</td>\n",
       "      <td>36.224300</td>\n",
       "    </tr>\n",
       "    <tr>\n",
       "      <th>2</th>\n",
       "      <td>2024-06-16 08:00:00</td>\n",
       "      <td>68.006302</td>\n",
       "      <td>0.0</td>\n",
       "      <td>100.0</td>\n",
       "      <td>35.900860</td>\n",
       "    </tr>\n",
       "    <tr>\n",
       "      <th>3</th>\n",
       "      <td>2024-06-16 09:00:00</td>\n",
       "      <td>68.186302</td>\n",
       "      <td>0.0</td>\n",
       "      <td>100.0</td>\n",
       "      <td>35.391861</td>\n",
       "    </tr>\n",
       "    <tr>\n",
       "      <th>4</th>\n",
       "      <td>2024-06-16 10:00:00</td>\n",
       "      <td>67.556297</td>\n",
       "      <td>0.0</td>\n",
       "      <td>100.0</td>\n",
       "      <td>35.690872</td>\n",
       "    </tr>\n",
       "    <tr>\n",
       "      <th>...</th>\n",
       "      <td>...</td>\n",
       "      <td>...</td>\n",
       "      <td>...</td>\n",
       "      <td>...</td>\n",
       "      <td>...</td>\n",
       "    </tr>\n",
       "    <tr>\n",
       "      <th>355</th>\n",
       "      <td>1981-07-01 01:00:00</td>\n",
       "      <td>62.834000</td>\n",
       "      <td>0.0</td>\n",
       "      <td>0.0</td>\n",
       "      <td>32.217484</td>\n",
       "    </tr>\n",
       "    <tr>\n",
       "      <th>356</th>\n",
       "      <td>1981-07-01 02:00:00</td>\n",
       "      <td>62.293999</td>\n",
       "      <td>0.0</td>\n",
       "      <td>0.0</td>\n",
       "      <td>33.626774</td>\n",
       "    </tr>\n",
       "    <tr>\n",
       "      <th>357</th>\n",
       "      <td>1981-07-01 03:00:00</td>\n",
       "      <td>62.203999</td>\n",
       "      <td>0.0</td>\n",
       "      <td>0.0</td>\n",
       "      <td>34.322937</td>\n",
       "    </tr>\n",
       "    <tr>\n",
       "      <th>358</th>\n",
       "      <td>1981-07-01 04:00:00</td>\n",
       "      <td>62.473995</td>\n",
       "      <td>0.0</td>\n",
       "      <td>3.0</td>\n",
       "      <td>33.651817</td>\n",
       "    </tr>\n",
       "    <tr>\n",
       "      <th>359</th>\n",
       "      <td>1981-07-01 05:00:00</td>\n",
       "      <td>63.014000</td>\n",
       "      <td>0.0</td>\n",
       "      <td>9.0</td>\n",
       "      <td>32.058197</td>\n",
       "    </tr>\n",
       "  </tbody>\n",
       "</table>\n",
       "<p>15840 rows × 5 columns</p>\n",
       "</div>"
      ]
     },
     "execution_count": 24,
     "metadata": {},
     "output_type": "execute_result"
    }
   ],
   "execution_count": 24
  },
  {
   "metadata": {
    "ExecuteTime": {
     "end_time": "2025-01-07T13:51:05.595423Z",
     "start_time": "2025-01-07T13:51:05.590355Z"
    }
   },
   "cell_type": "code",
   "source": [
    "# step 1 should be to convert UTC to local time\n",
    "# step 2 should be to split the day from the hour\n",
    "# step 3 should be groupby hour - should result in 24 groups\n",
    "# step 4 should be analysis of the group data\n",
    "#we should probably use boolean to evaluate the chance of rain or clouds"
   ],
   "id": "e3c3bb084cf6a1cf",
   "outputs": [],
   "execution_count": 25
  },
  {
   "metadata": {
    "ExecuteTime": {
     "end_time": "2025-01-07T13:51:05.665820Z",
     "start_time": "2025-01-07T13:51:05.656801Z"
    }
   },
   "cell_type": "code",
   "source": [
    "# step 1 - converting to local time\n",
    "test_frame['local'] = test_frame['date'].dt.tz_localize('utc').dt.tz_convert('America/Chicago')\n",
    "test_frame = test_frame.drop('date', axis=1)"
   ],
   "id": "2d8c6f0bf3ea90c8",
   "outputs": [],
   "execution_count": 26
  },
  {
   "metadata": {
    "ExecuteTime": {
     "end_time": "2025-01-07T13:51:05.737522Z",
     "start_time": "2025-01-07T13:51:05.727621Z"
    }
   },
   "cell_type": "code",
   "source": "test_frame",
   "id": "f50ceaa865ce4202",
   "outputs": [
    {
     "data": {
      "text/plain": [
       "     temperature_2m  precipitation  cloud_cover  wind_speed_100m  \\\n",
       "0         69.266304            0.0        100.0        35.516148   \n",
       "1         68.366302            0.0         99.0        36.224300   \n",
       "2         68.006302            0.0        100.0        35.900860   \n",
       "3         68.186302            0.0        100.0        35.391861   \n",
       "4         67.556297            0.0        100.0        35.690872   \n",
       "..              ...            ...          ...              ...   \n",
       "355       62.834000            0.0          0.0        32.217484   \n",
       "356       62.293999            0.0          0.0        33.626774   \n",
       "357       62.203999            0.0          0.0        34.322937   \n",
       "358       62.473995            0.0          3.0        33.651817   \n",
       "359       63.014000            0.0          9.0        32.058197   \n",
       "\n",
       "                        local  \n",
       "0   2024-06-16 01:00:00-05:00  \n",
       "1   2024-06-16 02:00:00-05:00  \n",
       "2   2024-06-16 03:00:00-05:00  \n",
       "3   2024-06-16 04:00:00-05:00  \n",
       "4   2024-06-16 05:00:00-05:00  \n",
       "..                        ...  \n",
       "355 1981-06-30 20:00:00-05:00  \n",
       "356 1981-06-30 21:00:00-05:00  \n",
       "357 1981-06-30 22:00:00-05:00  \n",
       "358 1981-06-30 23:00:00-05:00  \n",
       "359 1981-07-01 00:00:00-05:00  \n",
       "\n",
       "[15840 rows x 5 columns]"
      ],
      "text/html": [
       "<div>\n",
       "<style scoped>\n",
       "    .dataframe tbody tr th:only-of-type {\n",
       "        vertical-align: middle;\n",
       "    }\n",
       "\n",
       "    .dataframe tbody tr th {\n",
       "        vertical-align: top;\n",
       "    }\n",
       "\n",
       "    .dataframe thead th {\n",
       "        text-align: right;\n",
       "    }\n",
       "</style>\n",
       "<table border=\"1\" class=\"dataframe\">\n",
       "  <thead>\n",
       "    <tr style=\"text-align: right;\">\n",
       "      <th></th>\n",
       "      <th>temperature_2m</th>\n",
       "      <th>precipitation</th>\n",
       "      <th>cloud_cover</th>\n",
       "      <th>wind_speed_100m</th>\n",
       "      <th>local</th>\n",
       "    </tr>\n",
       "  </thead>\n",
       "  <tbody>\n",
       "    <tr>\n",
       "      <th>0</th>\n",
       "      <td>69.266304</td>\n",
       "      <td>0.0</td>\n",
       "      <td>100.0</td>\n",
       "      <td>35.516148</td>\n",
       "      <td>2024-06-16 01:00:00-05:00</td>\n",
       "    </tr>\n",
       "    <tr>\n",
       "      <th>1</th>\n",
       "      <td>68.366302</td>\n",
       "      <td>0.0</td>\n",
       "      <td>99.0</td>\n",
       "      <td>36.224300</td>\n",
       "      <td>2024-06-16 02:00:00-05:00</td>\n",
       "    </tr>\n",
       "    <tr>\n",
       "      <th>2</th>\n",
       "      <td>68.006302</td>\n",
       "      <td>0.0</td>\n",
       "      <td>100.0</td>\n",
       "      <td>35.900860</td>\n",
       "      <td>2024-06-16 03:00:00-05:00</td>\n",
       "    </tr>\n",
       "    <tr>\n",
       "      <th>3</th>\n",
       "      <td>68.186302</td>\n",
       "      <td>0.0</td>\n",
       "      <td>100.0</td>\n",
       "      <td>35.391861</td>\n",
       "      <td>2024-06-16 04:00:00-05:00</td>\n",
       "    </tr>\n",
       "    <tr>\n",
       "      <th>4</th>\n",
       "      <td>67.556297</td>\n",
       "      <td>0.0</td>\n",
       "      <td>100.0</td>\n",
       "      <td>35.690872</td>\n",
       "      <td>2024-06-16 05:00:00-05:00</td>\n",
       "    </tr>\n",
       "    <tr>\n",
       "      <th>...</th>\n",
       "      <td>...</td>\n",
       "      <td>...</td>\n",
       "      <td>...</td>\n",
       "      <td>...</td>\n",
       "      <td>...</td>\n",
       "    </tr>\n",
       "    <tr>\n",
       "      <th>355</th>\n",
       "      <td>62.834000</td>\n",
       "      <td>0.0</td>\n",
       "      <td>0.0</td>\n",
       "      <td>32.217484</td>\n",
       "      <td>1981-06-30 20:00:00-05:00</td>\n",
       "    </tr>\n",
       "    <tr>\n",
       "      <th>356</th>\n",
       "      <td>62.293999</td>\n",
       "      <td>0.0</td>\n",
       "      <td>0.0</td>\n",
       "      <td>33.626774</td>\n",
       "      <td>1981-06-30 21:00:00-05:00</td>\n",
       "    </tr>\n",
       "    <tr>\n",
       "      <th>357</th>\n",
       "      <td>62.203999</td>\n",
       "      <td>0.0</td>\n",
       "      <td>0.0</td>\n",
       "      <td>34.322937</td>\n",
       "      <td>1981-06-30 22:00:00-05:00</td>\n",
       "    </tr>\n",
       "    <tr>\n",
       "      <th>358</th>\n",
       "      <td>62.473995</td>\n",
       "      <td>0.0</td>\n",
       "      <td>3.0</td>\n",
       "      <td>33.651817</td>\n",
       "      <td>1981-06-30 23:00:00-05:00</td>\n",
       "    </tr>\n",
       "    <tr>\n",
       "      <th>359</th>\n",
       "      <td>63.014000</td>\n",
       "      <td>0.0</td>\n",
       "      <td>9.0</td>\n",
       "      <td>32.058197</td>\n",
       "      <td>1981-07-01 00:00:00-05:00</td>\n",
       "    </tr>\n",
       "  </tbody>\n",
       "</table>\n",
       "<p>15840 rows × 5 columns</p>\n",
       "</div>"
      ]
     },
     "execution_count": 27,
     "metadata": {},
     "output_type": "execute_result"
    }
   ],
   "execution_count": 27
  },
  {
   "metadata": {
    "ExecuteTime": {
     "end_time": "2025-01-07T13:51:05.848261Z",
     "start_time": "2025-01-07T13:51:05.843861Z"
    }
   },
   "cell_type": "code",
   "source": [
    "#create a checkpoint to avoid having to restart kernel\n",
    "test_frame2 = test_frame"
   ],
   "id": "38430099bb1cf9fc",
   "outputs": [],
   "execution_count": 28
  },
  {
   "metadata": {
    "ExecuteTime": {
     "end_time": "2025-01-07T13:51:05.942163Z",
     "start_time": "2025-01-07T13:51:05.905148Z"
    }
   },
   "cell_type": "code",
   "source": [
    "#step 2 - splitting day from hour\n",
    "test_frame2['Dates'] = pd.to_datetime(test_frame2['local']).dt.date\n",
    "test_frame2['Time'] = pd.to_datetime(test_frame2['local']).dt.time\n",
    "test_frame2 = test_frame.drop('local', axis=1)\n",
    "test_frame2"
   ],
   "id": "ccf8de3fb06fb4c0",
   "outputs": [
    {
     "data": {
      "text/plain": [
       "     temperature_2m  precipitation  cloud_cover  wind_speed_100m       Dates  \\\n",
       "0         69.266304            0.0        100.0        35.516148  2024-06-16   \n",
       "1         68.366302            0.0         99.0        36.224300  2024-06-16   \n",
       "2         68.006302            0.0        100.0        35.900860  2024-06-16   \n",
       "3         68.186302            0.0        100.0        35.391861  2024-06-16   \n",
       "4         67.556297            0.0        100.0        35.690872  2024-06-16   \n",
       "..              ...            ...          ...              ...         ...   \n",
       "355       62.834000            0.0          0.0        32.217484  1981-06-30   \n",
       "356       62.293999            0.0          0.0        33.626774  1981-06-30   \n",
       "357       62.203999            0.0          0.0        34.322937  1981-06-30   \n",
       "358       62.473995            0.0          3.0        33.651817  1981-06-30   \n",
       "359       63.014000            0.0          9.0        32.058197  1981-07-01   \n",
       "\n",
       "         Time  \n",
       "0    01:00:00  \n",
       "1    02:00:00  \n",
       "2    03:00:00  \n",
       "3    04:00:00  \n",
       "4    05:00:00  \n",
       "..        ...  \n",
       "355  20:00:00  \n",
       "356  21:00:00  \n",
       "357  22:00:00  \n",
       "358  23:00:00  \n",
       "359  00:00:00  \n",
       "\n",
       "[15840 rows x 6 columns]"
      ],
      "text/html": [
       "<div>\n",
       "<style scoped>\n",
       "    .dataframe tbody tr th:only-of-type {\n",
       "        vertical-align: middle;\n",
       "    }\n",
       "\n",
       "    .dataframe tbody tr th {\n",
       "        vertical-align: top;\n",
       "    }\n",
       "\n",
       "    .dataframe thead th {\n",
       "        text-align: right;\n",
       "    }\n",
       "</style>\n",
       "<table border=\"1\" class=\"dataframe\">\n",
       "  <thead>\n",
       "    <tr style=\"text-align: right;\">\n",
       "      <th></th>\n",
       "      <th>temperature_2m</th>\n",
       "      <th>precipitation</th>\n",
       "      <th>cloud_cover</th>\n",
       "      <th>wind_speed_100m</th>\n",
       "      <th>Dates</th>\n",
       "      <th>Time</th>\n",
       "    </tr>\n",
       "  </thead>\n",
       "  <tbody>\n",
       "    <tr>\n",
       "      <th>0</th>\n",
       "      <td>69.266304</td>\n",
       "      <td>0.0</td>\n",
       "      <td>100.0</td>\n",
       "      <td>35.516148</td>\n",
       "      <td>2024-06-16</td>\n",
       "      <td>01:00:00</td>\n",
       "    </tr>\n",
       "    <tr>\n",
       "      <th>1</th>\n",
       "      <td>68.366302</td>\n",
       "      <td>0.0</td>\n",
       "      <td>99.0</td>\n",
       "      <td>36.224300</td>\n",
       "      <td>2024-06-16</td>\n",
       "      <td>02:00:00</td>\n",
       "    </tr>\n",
       "    <tr>\n",
       "      <th>2</th>\n",
       "      <td>68.006302</td>\n",
       "      <td>0.0</td>\n",
       "      <td>100.0</td>\n",
       "      <td>35.900860</td>\n",
       "      <td>2024-06-16</td>\n",
       "      <td>03:00:00</td>\n",
       "    </tr>\n",
       "    <tr>\n",
       "      <th>3</th>\n",
       "      <td>68.186302</td>\n",
       "      <td>0.0</td>\n",
       "      <td>100.0</td>\n",
       "      <td>35.391861</td>\n",
       "      <td>2024-06-16</td>\n",
       "      <td>04:00:00</td>\n",
       "    </tr>\n",
       "    <tr>\n",
       "      <th>4</th>\n",
       "      <td>67.556297</td>\n",
       "      <td>0.0</td>\n",
       "      <td>100.0</td>\n",
       "      <td>35.690872</td>\n",
       "      <td>2024-06-16</td>\n",
       "      <td>05:00:00</td>\n",
       "    </tr>\n",
       "    <tr>\n",
       "      <th>...</th>\n",
       "      <td>...</td>\n",
       "      <td>...</td>\n",
       "      <td>...</td>\n",
       "      <td>...</td>\n",
       "      <td>...</td>\n",
       "      <td>...</td>\n",
       "    </tr>\n",
       "    <tr>\n",
       "      <th>355</th>\n",
       "      <td>62.834000</td>\n",
       "      <td>0.0</td>\n",
       "      <td>0.0</td>\n",
       "      <td>32.217484</td>\n",
       "      <td>1981-06-30</td>\n",
       "      <td>20:00:00</td>\n",
       "    </tr>\n",
       "    <tr>\n",
       "      <th>356</th>\n",
       "      <td>62.293999</td>\n",
       "      <td>0.0</td>\n",
       "      <td>0.0</td>\n",
       "      <td>33.626774</td>\n",
       "      <td>1981-06-30</td>\n",
       "      <td>21:00:00</td>\n",
       "    </tr>\n",
       "    <tr>\n",
       "      <th>357</th>\n",
       "      <td>62.203999</td>\n",
       "      <td>0.0</td>\n",
       "      <td>0.0</td>\n",
       "      <td>34.322937</td>\n",
       "      <td>1981-06-30</td>\n",
       "      <td>22:00:00</td>\n",
       "    </tr>\n",
       "    <tr>\n",
       "      <th>358</th>\n",
       "      <td>62.473995</td>\n",
       "      <td>0.0</td>\n",
       "      <td>3.0</td>\n",
       "      <td>33.651817</td>\n",
       "      <td>1981-06-30</td>\n",
       "      <td>23:00:00</td>\n",
       "    </tr>\n",
       "    <tr>\n",
       "      <th>359</th>\n",
       "      <td>63.014000</td>\n",
       "      <td>0.0</td>\n",
       "      <td>9.0</td>\n",
       "      <td>32.058197</td>\n",
       "      <td>1981-07-01</td>\n",
       "      <td>00:00:00</td>\n",
       "    </tr>\n",
       "  </tbody>\n",
       "</table>\n",
       "<p>15840 rows × 6 columns</p>\n",
       "</div>"
      ]
     },
     "execution_count": 29,
     "metadata": {},
     "output_type": "execute_result"
    }
   ],
   "execution_count": 29
  },
  {
   "metadata": {
    "ExecuteTime": {
     "end_time": "2025-01-07T13:51:05.992534Z",
     "start_time": "2025-01-07T13:51:05.988493Z"
    }
   },
   "cell_type": "code",
   "source": [
    "#step 3, group by hour\n",
    "time_groups = test_frame.groupby('Time')"
   ],
   "id": "4f08e8cbc30d9a95",
   "outputs": [],
   "execution_count": 30
  },
  {
   "metadata": {
    "ExecuteTime": {
     "end_time": "2025-01-07T13:51:06.204861Z",
     "start_time": "2025-01-07T13:51:06.086440Z"
    }
   },
   "cell_type": "code",
   "source": [
    "#step 4 analysis of data by hour\n",
    "summary = time_groups.describe()"
   ],
   "id": "e2457a81c12f5995",
   "outputs": [],
   "execution_count": 31
  },
  {
   "metadata": {
    "ExecuteTime": {
     "end_time": "2025-01-07T13:51:06.216312Z",
     "start_time": "2025-01-07T13:51:06.204861Z"
    }
   },
   "cell_type": "code",
   "source": "summery_plottable = summary['temperature_2m'].drop('count', axis=1)",
   "id": "df8b2603e6e11f86",
   "outputs": [],
   "execution_count": 32
  },
  {
   "metadata": {
    "ExecuteTime": {
     "end_time": "2025-01-07T13:51:06.493024Z",
     "start_time": "2025-01-07T13:51:06.262202Z"
    }
   },
   "cell_type": "code",
   "source": "summery_plottable['mean'].plot()",
   "id": "d3506f379cfa925e",
   "outputs": [
    {
     "data": {
      "text/plain": [
       "<Axes: xlabel='Time'>"
      ]
     },
     "execution_count": 33,
     "metadata": {},
     "output_type": "execute_result"
    },
    {
     "data": {
      "text/plain": [
       "<Figure size 640x480 with 1 Axes>"
      ],
      "image/png": "[encoded data removed]"
     },
     "metadata": {},
     "output_type": "display_data"
    }
   ],
   "execution_count": 33
  },
  {
   "metadata": {
    "ExecuteTime": {
     "end_time": "2025-01-07T13:51:06.530971Z",
     "start_time": "2025-01-07T13:51:06.521721Z"
    }
   },
   "cell_type": "code",
   "source": [
    "\n",
    "#the first thing we should do is group the data by period of day\n",
    "#currently there is an hourly breakdown - lets take each hour and assign to a group:\n",
    "# wee hours 00:00-5:00\n",
    "# morning: 5:00 - 12:00\n",
    "# afternoon: 12:00-17:00\n",
    "# evening: 17:00-20:00\n",
    "# night: 20:00-24:00"
   ],
   "id": "962ceba721584dc6",
   "outputs": [],
   "execution_count": 34
  },
  {
   "metadata": {
    "ExecuteTime": {
     "end_time": "2025-01-07T13:51:06.585220Z",
     "start_time": "2025-01-07T13:51:06.574948Z"
    }
   },
   "cell_type": "code",
   "source": [
    "hour_to_filter = 12\n",
    "filtered_rows = df1[df1['date'].dt.hour == hour_to_filter]"
   ],
   "id": "ababe7fa00575a3f",
   "outputs": [],
   "execution_count": 35
  },
  {
   "metadata": {
    "ExecuteTime": {
     "end_time": "2025-01-07T13:51:06.598489Z",
     "start_time": "2025-01-07T13:51:06.590941Z"
    }
   },
   "cell_type": "code",
   "source": "filtered_rows[\"temperature_2m\"].mean()",
   "id": "958e40a6163237d8",
   "outputs": [
    {
     "data": {
      "text/plain": [
       "np.float32(65.975334)"
      ]
     },
     "execution_count": 36,
     "metadata": {},
     "output_type": "execute_result"
    }
   ],
   "execution_count": 36
  },
  {
   "metadata": {
    "ExecuteTime": {
     "end_time": "2025-01-07T13:51:06.642Z",
     "start_time": "2025-01-07T13:51:06.632834Z"
    }
   },
   "cell_type": "code",
   "source": "filtered_rows[\"temperature_2m\"].median()",
   "id": "5a5d5e635901f5bd",
   "outputs": [
    {
     "data": {
      "text/plain": [
       "np.float32(66.254)"
      ]
     },
     "execution_count": 37,
     "metadata": {},
     "output_type": "execute_result"
    }
   ],
   "execution_count": 37
  },
  {
   "metadata": {
    "ExecuteTime": {
     "end_time": "2025-01-07T13:51:06.695115Z",
     "start_time": "2025-01-07T13:51:06.680387Z"
    }
   },
   "cell_type": "code",
   "source": "filtered_rows[\"temperature_2m\"].min()",
   "id": "28d44e2f0e0b1478",
   "outputs": [
    {
     "data": {
      "text/plain": [
       "np.float32(48.794)"
      ]
     },
     "execution_count": 38,
     "metadata": {},
     "output_type": "execute_result"
    }
   ],
   "execution_count": 38
  },
  {
   "metadata": {
    "ExecuteTime": {
     "end_time": "2025-01-07T13:51:06.771153Z",
     "start_time": "2025-01-07T13:51:06.764229Z"
    }
   },
   "cell_type": "code",
   "source": "filtered_rows[\"temperature_2m\"].max()",
   "id": "475685ae54c9d7d2",
   "outputs": [
    {
     "data": {
      "text/plain": [
       "np.float32(82.2263)"
      ]
     },
     "execution_count": 39,
     "metadata": {},
     "output_type": "execute_result"
    }
   ],
   "execution_count": 39
  },
  {
   "metadata": {
    "ExecuteTime": {
     "end_time": "2025-01-07T13:51:06.784051Z",
     "start_time": "2025-01-07T13:51:06.776762Z"
    }
   },
   "cell_type": "code",
   "source": "#can we generate a bell curve?",
   "id": "7715261662546294",
   "outputs": [],
   "execution_count": 40
  },
  {
   "metadata": {
    "ExecuteTime": {
     "end_time": "2025-01-07T13:51:06.850006Z",
     "start_time": "2025-01-07T13:51:06.824969Z"
    }
   },
   "cell_type": "code",
   "source": [
    "hours = range(0, 24)\n",
    "output_dict = {}\n",
    "for hour in hours:\n",
    "    hour_to_eval = hour\n",
    "    filtered_rows = df1[df1['date'].dt.hour == hour_to_eval]\n",
    "    hour_min = filtered_rows[\"temperature_2m\"].min()\n",
    "    hour_mean = filtered_rows[\"temperature_2m\"].mean()\n",
    "    hour_median = filtered_rows[\"temperature_2m\"].median()\n",
    "    hour_max = filtered_rows[\"temperature_2m\"].max()\n",
    "    output_dict[hour_to_eval] = (hour_min, hour_mean, hour_median, hour_max)"
   ],
   "id": "b602d7895465b5ee",
   "outputs": [],
   "execution_count": 41
  },
  {
   "metadata": {
    "ExecuteTime": {
     "end_time": "2025-01-07T13:51:06.876679Z",
     "start_time": "2025-01-07T13:51:06.870392Z"
    }
   },
   "cell_type": "code",
   "source": "output_dict",
   "id": "73af41143702d838",
   "outputs": [
    {
     "data": {
      "text/plain": [
       "{0: (np.float32(52.753998),\n",
       "  np.float32(71.23201),\n",
       "  np.float32(71.069),\n",
       "  np.float32(93.4763)),\n",
       " 1: (np.float32(51.854),\n",
       "  np.float32(70.16264),\n",
       "  np.float32(70.190155),\n",
       "  np.float32(91.4063)),\n",
       " 2: (np.float32(51.134),\n",
       "  np.float32(69.198685),\n",
       "  np.float32(69.313995),\n",
       "  np.float32(88.7963)),\n",
       " 3: (np.float32(50.774002),\n",
       "  np.float32(68.57196),\n",
       "  np.float32(68.84015),\n",
       "  np.float32(87.6263)),\n",
       " 4: (np.float32(50.414),\n",
       "  np.float32(68.021736),\n",
       "  np.float32(68.234),\n",
       "  np.float32(86.324)),\n",
       " 5: (np.float32(50.144),\n",
       "  np.float32(67.563416),\n",
       "  np.float32(67.604),\n",
       "  np.float32(86.054)),\n",
       " 6: (np.float32(49.874),\n",
       "  np.float32(66.86769),\n",
       "  np.float32(67.063995),\n",
       "  np.float32(85.604)),\n",
       " 7: (np.float32(48.974),\n",
       "  np.float32(66.359184),\n",
       "  np.float32(66.703995),\n",
       "  np.float32(84.883995)),\n",
       " 8: (np.float32(48.794),\n",
       "  np.float32(65.99987),\n",
       "  np.float32(66.59015),\n",
       "  np.float32(84.254)),\n",
       " 9: (np.float32(48.614002),\n",
       "  np.float32(65.626915),\n",
       "  np.float32(66.254),\n",
       "  np.float32(83.264)),\n",
       " 10: (np.float32(48.434),\n",
       "  np.float32(65.24537),\n",
       "  np.float32(65.714),\n",
       "  np.float32(81.284)),\n",
       " 11: (np.float32(48.253998),\n",
       "  np.float32(65.11869),\n",
       "  np.float32(65.42015),\n",
       "  np.float32(79.796295)),\n",
       " 12: (np.float32(48.794),\n",
       "  np.float32(65.975334),\n",
       "  np.float32(66.254),\n",
       "  np.float32(82.2263)),\n",
       " 13: (np.float32(49.784),\n",
       "  np.float32(67.316734),\n",
       "  np.float32(67.604),\n",
       "  np.float32(83.3063)),\n",
       " 14: (np.float32(51.134),\n",
       "  np.float32(68.62596),\n",
       "  np.float32(68.773994),\n",
       "  np.float32(85.8263)),\n",
       " 15: (np.float32(52.664),\n",
       "  np.float32(69.88269),\n",
       "  np.float32(70.034),\n",
       "  np.float32(88.4363)),\n",
       " 16: (np.float32(53.3363),\n",
       "  np.float32(70.9256),\n",
       "  np.float32(71.203995),\n",
       "  np.float32(91.3163)),\n",
       " 17: (np.float32(53.5163),\n",
       "  np.float32(71.752235),\n",
       "  np.float32(71.834),\n",
       "  np.float32(93.6563)),\n",
       " 18: (np.float32(53.114002),\n",
       "  np.float32(72.40255),\n",
       "  np.float32(72.464),\n",
       "  np.float32(95.7263)),\n",
       " 19: (np.float32(52.934),\n",
       "  np.float32(72.79883),\n",
       "  np.float32(72.824),\n",
       "  np.float32(97.166306)),\n",
       " 20: (np.float32(54.554),\n",
       "  np.float32(73.00528),\n",
       "  np.float32(73.094),\n",
       "  np.float32(98.1563)),\n",
       " 21: (np.float32(54.914),\n",
       "  np.float32(73.0196),\n",
       "  np.float32(73.004),\n",
       "  np.float32(98.2463)),\n",
       " 22: (np.float32(54.554),\n",
       "  np.float32(72.78042),\n",
       "  np.float32(72.914),\n",
       "  np.float32(97.3463)),\n",
       " 23: (np.float32(53.744),\n",
       "  np.float32(72.25378),\n",
       "  np.float32(72.149),\n",
       "  np.float32(93.92631))}"
      ]
     },
     "execution_count": 42,
     "metadata": {},
     "output_type": "execute_result"
    }
   ],
   "execution_count": 42
  },
  {
   "metadata": {
    "ExecuteTime": {
     "end_time": "2025-01-07T13:51:06.898268Z",
     "start_time": "2025-01-07T13:51:06.893418Z"
    }
   },
   "cell_type": "code",
   "source": "",
   "id": "1554c72170f53df0",
   "outputs": [],
   "execution_count": null
  }
 ],
 "metadata": {
  "kernelspec": {
   "display_name": "Python 3",
   "language": "python",
   "name": "python3"
  },
  "language_info": {
   "codemirror_mode": {
    "name": "ipython",
    "version": 2
   },
   "file_extension": ".py",
   "mimetype": "text/x-python",
   "name": "python",
   "nbconvert_exporter": "python",
   "pygments_lexer": "ipython2",
   "version": "2.7.6"
  }
 },
 "nbformat": 4,
 "nbformat_minor": 5
}
