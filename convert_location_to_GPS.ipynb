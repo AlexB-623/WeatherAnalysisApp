{
 "cells": [
  {
   "cell_type": "code",
   "id": "eb79004afb22b6cd",
   "metadata": {
    "ExecuteTime": {
     "end_time": "2024-12-21T14:29:31.029523Z",
     "start_time": "2024-12-21T14:29:31.009748Z"
    }
   },
   "source": [
    "# importing geopy library and Nominatim class\n",
    "from geopy.geocoders import Nominatim\n",
    "\n",
    "# calling the Nominatim tool and create Nominatim class\n",
    "loc = Nominatim(user_agent=\"Geopy Library\")"
   ],
   "outputs": [],
   "execution_count": 54
  },
  {
   "metadata": {
    "ExecuteTime": {
     "end_time": "2024-12-21T14:29:31.039947Z",
     "start_time": "2024-12-21T14:29:31.029523Z"
    }
   },
   "cell_type": "code",
   "source": [
    "def convert_location_to_gps(location):\n",
    "    getloc = loc.geocode(location)\n",
    "    try:\n",
    "        lat = round(float(getloc.latitude), 2)\n",
    "        long = round(float(getloc.longitude), 2)\n",
    "    except AttributeError:\n",
    "        return \"Could not convert location name to GPS- please check the spelling and try again\"\n",
    "    return lat, long"
   ],
   "id": "24029aa14d86fdd1",
   "outputs": [],
   "execution_count": 55
  },
  {
   "metadata": {
    "ExecuteTime": {
     "end_time": "2024-12-21T14:29:32.081105Z",
     "start_time": "2024-12-21T14:29:31.056104Z"
    }
   },
   "cell_type": "code",
   "source": "convert_location_to_gps(\"baltimore\")",
   "id": "e6314409ab8d65c6",
   "outputs": [
    {
     "data": {
      "text/plain": [
       "(39.29, -76.61)"
      ]
     },
     "execution_count": 56,
     "metadata": {},
     "output_type": "execute_result"
    }
   ],
   "execution_count": 56
  },
  {
   "metadata": {
    "ExecuteTime": {
     "end_time": "2024-12-21T14:29:32.128905Z",
     "start_time": "2024-12-21T14:29:32.124780Z"
    }
   },
   "cell_type": "code",
   "source": "",
   "id": "7b13444fce636338",
   "outputs": [],
   "execution_count": null
  }
 ],
 "metadata": {
  "kernelspec": {
   "display_name": "Python 3",
   "language": "python",
   "name": "python3"
  },
  "language_info": {
   "codemirror_mode": {
    "name": "ipython",
    "version": 2
   },
   "file_extension": ".py",
   "mimetype": "text/x-python",
   "name": "python",
   "nbconvert_exporter": "python",
   "pygments_lexer": "ipython2",
   "version": "2.7.6"
  }
 },
 "nbformat": 4,
 "nbformat_minor": 5
}
