{
 "cells": [
  {
   "cell_type": "code",
   "id": "e939c055535f450a",
   "metadata": {
    "ExecuteTime": {
     "end_time": "2024-12-07T20:43:37.172640Z",
     "start_time": "2024-12-07T20:43:37.168672Z"
    }
   },
   "source": "import datetime\n",
   "outputs": [],
   "execution_count": 296
  },
  {
   "metadata": {
    "ExecuteTime": {
     "end_time": "2024-12-07T20:43:37.199297Z",
     "start_time": "2024-12-07T20:43:37.193357Z"
    }
   },
   "cell_type": "code",
   "source": [
    "month_length = {\"1\": 31,\n",
    "\"2\": \"28 or 29\",\n",
    "\"3\": 31,\n",
    "\"4\": 30,\n",
    "\"5\": 31,\n",
    "\"6\": 30,\n",
    "\"7\": 31,\n",
    "\"8\": 31,\n",
    "\"9\": 30,\n",
    "\"10\": 31,\n",
    "\"11\": 30,\n",
    "\"12\": 31}"
   ],
   "id": "da83b43ddfa75c0f",
   "outputs": [],
   "execution_count": 297
  },
  {
   "metadata": {
    "ExecuteTime": {
     "end_time": "2024-12-07T20:43:37.213502Z",
     "start_time": "2024-12-07T20:43:37.200308Z"
    }
   },
   "cell_type": "code",
   "source": [
    "current_year = datetime.datetime.now().year\n",
    "current_year"
   ],
   "id": "314ba51917b1fcf8",
   "outputs": [
    {
     "data": {
      "text/plain": [
       "2024"
      ]
     },
     "execution_count": 298,
     "metadata": {},
     "output_type": "execute_result"
    }
   ],
   "execution_count": 298
  },
  {
   "metadata": {
    "ExecuteTime": {
     "end_time": "2024-12-07T20:43:37.304067Z",
     "start_time": "2024-12-07T20:43:37.300246Z"
    }
   },
   "cell_type": "code",
   "source": "years = range(1950, current_year)",
   "id": "56e4605038598dd4",
   "outputs": [],
   "execution_count": 299
  },
  {
   "metadata": {
    "ExecuteTime": {
     "end_time": "2024-12-07T20:43:37.321097Z",
     "start_time": "2024-12-07T20:43:37.313850Z"
    }
   },
   "cell_type": "code",
   "source": [
    "def determine_days_to_call(day, month, year):\n",
    "    \"\"\"\n",
    "    Takes a day month and year, returns the days 7 days before and 7 days after regardless of month or year\n",
    "    The output is a list of tuples in the format [(day, month, year), ...]\n",
    "    :param day:\n",
    "    :param month:\n",
    "    :param year:\n",
    "    :return:\n",
    "    \"\"\"\n",
    "    days_prior = day-7\n",
    "    days_after = day + 8\n",
    "    range_days = range(days_prior, days_after)\n",
    "    #conditions to check for:\n",
    "    # start is less than 1 -> need to check prior month\n",
    "    if range_days[0] < 1:\n",
    "        # is it leap year?\n",
    "        if month == 3:\n",
    "            # is it leap year?\n",
    "            if is_it_leap_year(year):\n",
    "                return \"28 day feb\"\n",
    "            else:\n",
    "                return \"29 day feb\"\n",
    "        else:\n",
    "            return month_lookbehind(range_days, month, year)\n",
    "    # end is greater than the number of days in the month -> need days from next month\n",
    "    elif range_days[-1] > 28:\n",
    "        if month == 2:\n",
    "            # is it leap year?\n",
    "            if is_it_leap_year(year):\n",
    "                return \"28 day feb\"\n",
    "            else:\n",
    "                return \"29 day feb\"\n",
    "        #is it december and next month is jan next year\n",
    "        elif month == 12:\n",
    "            return \"gets days from January next year\"\n",
    "        else:\n",
    "            return \"check length of month and get days from that + next month\"\n",
    "    else:\n",
    "        #we have determined that all days in the range are part of the same month and no special handling is needed\n",
    "        return all_days_in_1_month(range_days, month, year)"
   ],
   "id": "511ac61c9414e1e0",
   "outputs": [],
   "execution_count": 300
  },
  {
   "metadata": {
    "ExecuteTime": {
     "end_time": "2024-12-07T20:43:37.341698Z",
     "start_time": "2024-12-07T20:43:37.336676Z"
    }
   },
   "cell_type": "code",
   "source": [
    "def all_days_in_1_month(day_range, month, year):\n",
    "    r_proper = []\n",
    "    for day in day_range:\n",
    "        date_tup = (day, month, year)\n",
    "        r_proper.append(date_tup)\n",
    "    return r_proper"
   ],
   "id": "252c6ed37c5b79ce",
   "outputs": [],
   "execution_count": 301
  },
  {
   "metadata": {
    "ExecuteTime": {
     "end_time": "2024-12-07T20:43:37.382370Z",
     "start_time": "2024-12-07T20:43:37.375633Z"
    }
   },
   "cell_type": "code",
   "source": [
    "def is_it_leap_year(year):\n",
    "    if year % 4 == 0 and year % 100 != 0 or year % 400 == 0:\n",
    "        return True"
   ],
   "id": "363163b735c6936f",
   "outputs": [],
   "execution_count": 302
  },
  {
   "metadata": {
    "ExecuteTime": {
     "end_time": "2024-12-07T20:43:37.393521Z",
     "start_time": "2024-12-07T20:43:37.383886Z"
    }
   },
   "cell_type": "code",
   "source": [
    "def month_lookbehind(range_days, month, year):\n",
    "    \"\"\"\n",
    "    if the range starts with a negative, then we need to get dats from the prior month. outputs a tuple with dates adjusted for the prior month\n",
    "    :param range_days:\n",
    "    :param month:\n",
    "    :param year:\n",
    "    :return:\n",
    "    \"\"\"\n",
    "    prior_month_days = []\n",
    "    current_month_days = []\n",
    "    current_month = month\n",
    "    current_month_year = year\n",
    "    #here we are checking if the current month is January, as that will affect the way we go back to December\n",
    "    if month - 1 == 0:\n",
    "        prior_month = 12\n",
    "        prior_month_year = current_month_year - 1\n",
    "    else:\n",
    "        prior_month = month - 1\n",
    "        prior_month_year = current_month_year\n",
    "    #splitting into 2 ranges - 1 for each month\n",
    "    for i in range_days:\n",
    "        if i >= 1:\n",
    "            current_month_days.append(i)\n",
    "        else:\n",
    "            prior_month_days.append(i)\n",
    "    #defining range of current month\n",
    "    current_month_range = range(current_month_days[0], current_month_days[-1] + 1)\n",
    "    current_month_range_ready = all_days_in_1_month(current_month_range, current_month, current_month_year)\n",
    "    #prepping an empty list for output\n",
    "    output = []\n",
    "    #-1 from the current  month = 31 from the prior month\n",
    "    #cleaning up and making a good range\n",
    "    prior_month_start = prior_month_days[0]\n",
    "    prior_month_end = month_length[str(prior_month)]\n",
    "    pm_range_start = prior_month_end + prior_month_start\n",
    "    prior_month_range = range(pm_range_start, prior_month_end + 1)\n",
    "    prior_month_range_ready = all_days_in_1_month(prior_month_range, prior_month, prior_month_year)\n",
    "    #appending the prior month range into the output\n",
    "    for i in prior_month_range_ready:\n",
    "        output.append(i)\n",
    "    #appending the current month range into the output\n",
    "    for i in current_month_range_ready:\n",
    "        output.append(i)\n",
    "    return output"
   ],
   "id": "f92a6d1ad4ff19f0",
   "outputs": [],
   "execution_count": 303
  },
  {
   "metadata": {
    "ExecuteTime": {
     "end_time": "2024-12-07T20:43:37.402329Z",
     "start_time": "2024-12-07T20:43:37.399586Z"
    }
   },
   "cell_type": "code",
   "source": "",
   "id": "55bbe8bd681be2f5",
   "outputs": [],
   "execution_count": null
  },
  {
   "metadata": {
    "ExecuteTime": {
     "end_time": "2024-12-07T20:43:37.413232Z",
     "start_time": "2024-12-07T20:43:37.407780Z"
    }
   },
   "cell_type": "code",
   "source": [
    "#test days before\n",
    "days_from_prior_month = determine_days_to_call(2, 6, 2024)\n",
    "print(days_from_prior_month)\n",
    "if days_from_prior_month[0] == (26, 5, 2024) and days_from_prior_month[-1] == (9, 6, 2024):\n",
    "    print(\"Test Passed\")\n",
    "else: print(\"Test Failed\")"
   ],
   "id": "b317be94fb4befa",
   "outputs": [
    {
     "name": "stdout",
     "output_type": "stream",
     "text": [
      "[(26, 5, 2024), (27, 5, 2024), (28, 5, 2024), (29, 5, 2024), (30, 5, 2024), (31, 5, 2024), (1, 6, 2024), (2, 6, 2024), (3, 6, 2024), (4, 6, 2024), (5, 6, 2024), (6, 6, 2024), (7, 6, 2024), (8, 6, 2024), (9, 6, 2024)]\n",
      "Test Passed\n"
     ]
    }
   ],
   "execution_count": 304
  },
  {
   "metadata": {
    "ExecuteTime": {
     "end_time": "2024-12-07T20:43:37.445587Z",
     "start_time": "2024-12-07T20:43:37.430661Z"
    }
   },
   "cell_type": "code",
   "source": [
    "#test days after\n",
    "if determine_days_to_call(28, 6, 2024) == 'check length of month and get days from that + next month':\n",
    "    print(\"Test Passed\")\n",
    "else: print(\"Test Failed\")"
   ],
   "id": "49092075afb6c076",
   "outputs": [
    {
     "name": "stdout",
     "output_type": "stream",
     "text": [
      "Test Passed\n"
     ]
    }
   ],
   "execution_count": 305
  },
  {
   "metadata": {
    "ExecuteTime": {
     "end_time": "2024-12-07T20:43:37.482763Z",
     "start_time": "2024-12-07T20:43:37.478098Z"
    }
   },
   "cell_type": "code",
   "source": [
    "#test days after\n",
    "ly_fronthandle = determine_days_to_call(22, 2, 2024)\n",
    "print(ly_fronthandle)\n",
    "if ly_fronthandle == \"28 day feb\":\n",
    "    print(\"Test Passed\")\n",
    "else: print(\"Test Failed\")"
   ],
   "id": "3ca5c72b0ba7ece3",
   "outputs": [
    {
     "name": "stdout",
     "output_type": "stream",
     "text": [
      "28 day feb\n",
      "Test Passed\n"
     ]
    }
   ],
   "execution_count": 306
  },
  {
   "metadata": {
    "ExecuteTime": {
     "end_time": "2024-12-07T20:43:37.525072Z",
     "start_time": "2024-12-07T20:43:37.509562Z"
    }
   },
   "cell_type": "code",
   "source": [
    "#test dec into next year\n",
    "if determine_days_to_call(27, 12, 2024) == 'gets days from January next year':\n",
    "    print(\"Test Passed\")\n",
    "else: print(\"Test Failed\")"
   ],
   "id": "966c52e99a1bf0a8",
   "outputs": [
    {
     "name": "stdout",
     "output_type": "stream",
     "text": [
      "Test Passed\n"
     ]
    }
   ],
   "execution_count": 307
  },
  {
   "metadata": {
    "ExecuteTime": {
     "end_time": "2024-12-07T20:43:37.567491Z",
     "start_time": "2024-12-07T20:43:37.556487Z"
    }
   },
   "cell_type": "code",
   "source": [
    "#test leap year back-handling\n",
    "ly_backhandle = determine_days_to_call(3, 3, 2024)\n",
    "print(ly_backhandle)\n",
    "if ly_backhandle == \"28 day feb\":\n",
    "    print(\"Test Passed\")\n",
    "else: print(\"Test Failed\")"
   ],
   "id": "a32951936241b48c",
   "outputs": [
    {
     "name": "stdout",
     "output_type": "stream",
     "text": [
      "28 day feb\n",
      "Test Passed\n"
     ]
    }
   ],
   "execution_count": 308
  },
  {
   "metadata": {
    "ExecuteTime": {
     "end_time": "2024-12-07T20:43:37.610003Z",
     "start_time": "2024-12-07T20:43:37.604303Z"
    }
   },
   "cell_type": "code",
   "source": [
    "#test all days in 1 month (definitive)\n",
    "test_single_month = determine_days_to_call(12, 6, 2024)\n",
    "print(test_single_month)\n",
    "if test_single_month[0] == (5, 6, 2024) and test_single_month[-1] == (19, 6, 2024):\n",
    "    print(\"Test Passed\")\n",
    "else: print(\"Test Failed\")"
   ],
   "id": "8bc56ba3efa6efb1",
   "outputs": [
    {
     "name": "stdout",
     "output_type": "stream",
     "text": [
      "[(5, 6, 2024), (6, 6, 2024), (7, 6, 2024), (8, 6, 2024), (9, 6, 2024), (10, 6, 2024), (11, 6, 2024), (12, 6, 2024), (13, 6, 2024), (14, 6, 2024), (15, 6, 2024), (16, 6, 2024), (17, 6, 2024), (18, 6, 2024), (19, 6, 2024)]\n",
      "Test Passed\n"
     ]
    }
   ],
   "execution_count": 309
  },
  {
   "metadata": {
    "ExecuteTime": {
     "end_time": "2024-12-07T20:43:37.653420Z",
     "start_time": "2024-12-07T20:43:37.635626Z"
    }
   },
   "cell_type": "code",
   "source": [
    "simple_month_lookbehind = determine_days_to_call(2, 6, 2024)\n",
    "print(simple_month_lookbehind)\n",
    "if simple_month_lookbehind[0] == (26, 5, 2024) and simple_month_lookbehind[-1] == (9, 6, 2024):\n",
    "    print(\"Test Passed\")\n",
    "else:\n",
    "    print(\"Test Failed\")"
   ],
   "id": "e0322b910bb38fe1",
   "outputs": [
    {
     "name": "stdout",
     "output_type": "stream",
     "text": [
      "[(26, 5, 2024), (27, 5, 2024), (28, 5, 2024), (29, 5, 2024), (30, 5, 2024), (31, 5, 2024), (1, 6, 2024), (2, 6, 2024), (3, 6, 2024), (4, 6, 2024), (5, 6, 2024), (6, 6, 2024), (7, 6, 2024), (8, 6, 2024), (9, 6, 2024)]\n",
      "Test Passed\n"
     ]
    }
   ],
   "execution_count": 310
  },
  {
   "metadata": {
    "ExecuteTime": {
     "end_time": "2024-12-07T20:43:37.698714Z",
     "start_time": "2024-12-07T20:43:37.680742Z"
    }
   },
   "cell_type": "code",
   "source": [
    "#test jan back to last year\n",
    "year_lookbehind = determine_days_to_call(2, 1, 2024)\n",
    "print(year_lookbehind)\n",
    "if year_lookbehind[0] == (26, 12, 2023) and year_lookbehind[-1] == (9, 1, 2024):\n",
    "    print(\"Test Passed\")\n",
    "else:\n",
    "    print(\"Test Failed\")"
   ],
   "id": "c497832993f0eefc",
   "outputs": [
    {
     "name": "stdout",
     "output_type": "stream",
     "text": [
      "[(26, 12, 2023), (27, 12, 2023), (28, 12, 2023), (29, 12, 2023), (30, 12, 2023), (31, 12, 2023), (1, 1, 2024), (2, 1, 2024), (3, 1, 2024), (4, 1, 2024), (5, 1, 2024), (6, 1, 2024), (7, 1, 2024), (8, 1, 2024), (9, 1, 2024)]\n",
      "Test Passed\n"
     ]
    }
   ],
   "execution_count": 311
  },
  {
   "metadata": {
    "ExecuteTime": {
     "end_time": "2024-12-07T20:43:37.768520Z",
     "start_time": "2024-12-07T20:43:37.759470Z"
    }
   },
   "cell_type": "code",
   "source": "",
   "id": "20de16bcd7d2937a",
   "outputs": [],
   "execution_count": null
  },
  {
   "metadata": {
    "ExecuteTime": {
     "end_time": "2024-12-07T20:43:37.781587Z",
     "start_time": "2024-12-07T20:43:37.777661Z"
    }
   },
   "cell_type": "code",
   "source": "",
   "id": "2dca5eb9901592ff",
   "outputs": [],
   "execution_count": null
  },
  {
   "metadata": {
    "ExecuteTime": {
     "end_time": "2024-12-07T20:43:37.806928Z",
     "start_time": "2024-12-07T20:43:37.790757Z"
    }
   },
   "cell_type": "code",
   "source": "",
   "id": "f8d46338963274bc",
   "outputs": [],
   "execution_count": null
  }
 ],
 "metadata": {
  "kernelspec": {
   "display_name": "Python 3",
   "language": "python",
   "name": "python3"
  },
  "language_info": {
   "codemirror_mode": {
    "name": "ipython",
    "version": 2
   },
   "file_extension": ".py",
   "mimetype": "text/x-python",
   "name": "python",
   "nbconvert_exporter": "python",
   "pygments_lexer": "ipython2",
   "version": "2.7.6"
  }
 },
 "nbformat": 4,
 "nbformat_minor": 5
}
