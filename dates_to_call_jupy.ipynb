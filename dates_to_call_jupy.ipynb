{
 "cells": [
  {
   "cell_type": "code",
   "id": "e939c055535f450a",
   "metadata": {
    "ExecuteTime": {
     "end_time": "2024-12-07T20:00:39.119163Z",
     "start_time": "2024-12-07T20:00:39.112914Z"
    }
   },
   "source": "import datetime\n",
   "outputs": [],
   "execution_count": 1804
  },
  {
   "metadata": {
    "ExecuteTime": {
     "end_time": "2024-12-07T20:00:39.145559Z",
     "start_time": "2024-12-07T20:00:39.137787Z"
    }
   },
   "cell_type": "code",
   "source": [
    "month_length = {\"1\": 31,\n",
    "\"2\": \"28 or 29\",\n",
    "\"3\": 31,\n",
    "\"4\": 30,\n",
    "\"5\": 31,\n",
    "\"6\": 30,\n",
    "\"7\": 31,\n",
    "\"8\": 31,\n",
    "\"9\": 30,\n",
    "\"10\": 31,\n",
    "\"11\": 30,\n",
    "\"12\": 31}"
   ],
   "id": "da83b43ddfa75c0f",
   "outputs": [],
   "execution_count": 1805
  },
  {
   "metadata": {
    "ExecuteTime": {
     "end_time": "2024-12-07T20:00:39.169337Z",
     "start_time": "2024-12-07T20:00:39.160694Z"
    }
   },
   "cell_type": "code",
   "source": [
    "current_year = datetime.datetime.now().year\n",
    "current_year"
   ],
   "id": "314ba51917b1fcf8",
   "outputs": [
    {
     "data": {
      "text/plain": [
       "2024"
      ]
     },
     "execution_count": 1806,
     "metadata": {},
     "output_type": "execute_result"
    }
   ],
   "execution_count": 1806
  },
  {
   "metadata": {
    "ExecuteTime": {
     "end_time": "2024-12-07T20:00:39.192876Z",
     "start_time": "2024-12-07T20:00:39.175855Z"
    }
   },
   "cell_type": "code",
   "source": "years = range(1950, current_year)",
   "id": "56e4605038598dd4",
   "outputs": [],
   "execution_count": 1807
  },
  {
   "metadata": {
    "ExecuteTime": {
     "end_time": "2024-12-07T20:00:39.207980Z",
     "start_time": "2024-12-07T20:00:39.202491Z"
    }
   },
   "cell_type": "code",
   "source": [
    "def determine_days_to_call(day, month, year):\n",
    "    \"\"\"\n",
    "    Takes a day month and year, returns the days 7 days before and 7 days after regardless of month or year\n",
    "    The output is a list of tuples in the format [(day, month, year), ...]\n",
    "    :param day:\n",
    "    :param month:\n",
    "    :param year:\n",
    "    :return:\n",
    "    \"\"\"\n",
    "    days_prior = day-7\n",
    "    days_after = day + 8\n",
    "    range_days = range(days_prior, days_after)\n",
    "    #conditions to check for:\n",
    "    # start is less than 1 -> need to check prior month\n",
    "    if range_days[0] < 1:\n",
    "        # is it leap year?\n",
    "        if month == 3:\n",
    "            # is it leap year?\n",
    "            if is_it_leap_year(year):\n",
    "                return \"28 day feb\"\n",
    "            else:\n",
    "                return \"29 day feb\"\n",
    "        #is it January and we need to get days from next year?\n",
    "        elif month == 1:\n",
    "            return \"get days from Dec last year\"\n",
    "        else:\n",
    "            return month_lookbehind(range_days, month, year)\n",
    "    # end is greater than the number of days in the month -> need days from next month\n",
    "    elif range_days[-1] > 28:\n",
    "        if month == 2:\n",
    "            # is it leap year?\n",
    "            if is_it_leap_year(year):\n",
    "                return \"28 day feb\"\n",
    "            else:\n",
    "                return \"29 day feb\"\n",
    "        #is it december and next month is jan next year\n",
    "        elif month == 12:\n",
    "            return \"gets days from January next year\"\n",
    "        else:\n",
    "            return \"check length of month and get days from that + next month\"\n",
    "    else:\n",
    "        #we have determined that all days in the range are part of the same month and no special handling is needed\n",
    "        return all_days_in_1_month(range_days, month, year)"
   ],
   "id": "511ac61c9414e1e0",
   "outputs": [],
   "execution_count": 1808
  },
  {
   "metadata": {
    "ExecuteTime": {
     "end_time": "2024-12-07T20:00:39.222205Z",
     "start_time": "2024-12-07T20:00:39.218348Z"
    }
   },
   "cell_type": "code",
   "source": [
    "def all_days_in_1_month(day_range, month, year):\n",
    "    r_proper = []\n",
    "    for day in day_range:\n",
    "        date_tup = (day, month, year)\n",
    "        r_proper.append(date_tup)\n",
    "    return r_proper"
   ],
   "id": "252c6ed37c5b79ce",
   "outputs": [],
   "execution_count": 1809
  },
  {
   "metadata": {
    "ExecuteTime": {
     "end_time": "2024-12-07T20:00:39.234005Z",
     "start_time": "2024-12-07T20:00:39.229102Z"
    }
   },
   "cell_type": "code",
   "source": [
    "def is_it_leap_year(year):\n",
    "    if year % 4 == 0 and year % 100 != 0 or year % 400 == 0:\n",
    "        return True"
   ],
   "id": "363163b735c6936f",
   "outputs": [],
   "execution_count": 1810
  },
  {
   "metadata": {
    "ExecuteTime": {
     "end_time": "2024-12-07T20:00:39.245852Z",
     "start_time": "2024-12-07T20:00:39.241138Z"
    }
   },
   "cell_type": "code",
   "source": [
    "def month_lookbehind(range_days, month, year):\n",
    "    \"\"\"\n",
    "    if the range starts with a negative, then we need to get dats from the prior month. outputs a tuple with dates adjusted for the prior month\n",
    "    :param range_days:\n",
    "    :param month:\n",
    "    :param year:\n",
    "    :return:\n",
    "    \"\"\"\n",
    "    prior_month_days = []\n",
    "    current_month_days = []\n",
    "    current_month = month\n",
    "    prior_month = month - 1\n",
    "    #splitting into 2 ranges - 1 for each month\n",
    "    for i in range_days:\n",
    "        if i >= 1:\n",
    "            current_month_days.append(i)\n",
    "        else:\n",
    "            prior_month_days.append(i)\n",
    "    #defining range of current month\n",
    "    current_month_range = range(current_month_days[0], current_month_days[-1] + 1)\n",
    "    current_month_range_ready = all_days_in_1_month(current_month_range, current_month, 2024)\n",
    "    #prepping an empty list for output\n",
    "    output = []\n",
    "    #-1 from the current  month = 31 from the prior month\n",
    "    #cleaning up and making a good range\n",
    "    prior_month_start = prior_month_days[0]\n",
    "    prior_month_end = month_length[str(prior_month)]\n",
    "    pm_range_start = prior_month_end + prior_month_start\n",
    "    prior_month_range = range(pm_range_start, prior_month_end + 1)\n",
    "    prior_month_range_ready = all_days_in_1_month(prior_month_range, prior_month, 2024)\n",
    "    #appending the prior month range into the output\n",
    "    for i in prior_month_range_ready:\n",
    "        output.append(i)\n",
    "    #appending the current month range into the output\n",
    "    for i in current_month_range_ready:\n",
    "        output.append(i)\n",
    "    return output"
   ],
   "id": "f92a6d1ad4ff19f0",
   "outputs": [],
   "execution_count": 1811
  },
  {
   "metadata": {
    "ExecuteTime": {
     "end_time": "2024-12-07T20:00:39.255789Z",
     "start_time": "2024-12-07T20:00:39.253215Z"
    }
   },
   "cell_type": "code",
   "source": "",
   "id": "55bbe8bd681be2f5",
   "outputs": [],
   "execution_count": null
  },
  {
   "metadata": {
    "ExecuteTime": {
     "end_time": "2024-12-07T20:00:39.268258Z",
     "start_time": "2024-12-07T20:00:39.262806Z"
    }
   },
   "cell_type": "code",
   "source": [
    "#test days before\n",
    "days_from_prior_month = determine_days_to_call(2, 6, 2024)\n",
    "print(days_from_prior_month)\n",
    "if days_from_prior_month[0] == (26, 31) and days_from_prior_month[1] == (1, 9):\n",
    "    print(\"Test Passed\")\n",
    "else: print(\"Test Failed\")"
   ],
   "id": "b317be94fb4befa",
   "outputs": [
    {
     "name": "stdout",
     "output_type": "stream",
     "text": [
      "[(26, 5, 2024), (27, 5, 2024), (28, 5, 2024), (29, 5, 2024), (30, 5, 2024), (31, 5, 2024), (1, 6, 2024), (2, 6, 2024), (3, 6, 2024), (4, 6, 2024), (5, 6, 2024), (6, 6, 2024), (7, 6, 2024), (8, 6, 2024), (9, 6, 2024)]\n",
      "Test Failed\n"
     ]
    }
   ],
   "execution_count": 1812
  },
  {
   "metadata": {
    "ExecuteTime": {
     "end_time": "2024-12-07T20:00:39.293565Z",
     "start_time": "2024-12-07T20:00:39.276857Z"
    }
   },
   "cell_type": "code",
   "source": [
    "#test days after\n",
    "if determine_days_to_call(28, 6, 2024) == 'check length of month and get days from that + next month':\n",
    "    print(\"Test Passed\")\n",
    "else: print(\"Test Failed\")"
   ],
   "id": "49092075afb6c076",
   "outputs": [
    {
     "name": "stdout",
     "output_type": "stream",
     "text": [
      "Test Passed\n"
     ]
    }
   ],
   "execution_count": 1813
  },
  {
   "metadata": {
    "ExecuteTime": {
     "end_time": "2024-12-07T20:00:39.313829Z",
     "start_time": "2024-12-07T20:00:39.306666Z"
    }
   },
   "cell_type": "code",
   "source": [
    "#test days after\n",
    "ly_fronthandle = determine_days_to_call(22, 2, 2024)\n",
    "print(ly_fronthandle)\n",
    "if ly_fronthandle == \"28 day feb\":\n",
    "    print(\"Test Passed\")\n",
    "else: print(\"Test Failed\")"
   ],
   "id": "3ca5c72b0ba7ece3",
   "outputs": [
    {
     "name": "stdout",
     "output_type": "stream",
     "text": [
      "28 day feb\n",
      "Test Passed\n"
     ]
    }
   ],
   "execution_count": 1814
  },
  {
   "metadata": {
    "ExecuteTime": {
     "end_time": "2024-12-07T20:00:39.343729Z",
     "start_time": "2024-12-07T20:00:39.338097Z"
    }
   },
   "cell_type": "code",
   "source": [
    "#test dec into next year\n",
    "if determine_days_to_call(27, 12, 2024) == 'gets days from January next year':\n",
    "    print(\"Test Passed\")\n",
    "else: print(\"Test Failed\")"
   ],
   "id": "966c52e99a1bf0a8",
   "outputs": [
    {
     "name": "stdout",
     "output_type": "stream",
     "text": [
      "Test Passed\n"
     ]
    }
   ],
   "execution_count": 1815
  },
  {
   "metadata": {
    "ExecuteTime": {
     "end_time": "2024-12-07T20:00:39.375685Z",
     "start_time": "2024-12-07T20:00:39.368012Z"
    }
   },
   "cell_type": "code",
   "source": [
    "#test jan back to last year\n",
    "if determine_days_to_call(3, 1, 2024) == 'get days from Dec last year':\n",
    "    print(\"Test Passed\")\n",
    "else: print(\"Test Failed\")"
   ],
   "id": "9217e938b08461e1",
   "outputs": [
    {
     "name": "stdout",
     "output_type": "stream",
     "text": [
      "Test Passed\n"
     ]
    }
   ],
   "execution_count": 1816
  },
  {
   "metadata": {
    "ExecuteTime": {
     "end_time": "2024-12-07T20:00:39.477479Z",
     "start_time": "2024-12-07T20:00:39.462376Z"
    }
   },
   "cell_type": "code",
   "source": [
    "#test leap year back-handling\n",
    "ly_backhandle = determine_days_to_call(3, 3, 2024)\n",
    "print(ly_backhandle)\n",
    "if ly_backhandle == \"28 day feb\":\n",
    "    print(\"Test Passed\")\n",
    "else: print(\"Test Failed\")"
   ],
   "id": "a32951936241b48c",
   "outputs": [
    {
     "name": "stdout",
     "output_type": "stream",
     "text": [
      "28 day feb\n",
      "Test Passed\n"
     ]
    }
   ],
   "execution_count": 1817
  },
  {
   "metadata": {
    "ExecuteTime": {
     "end_time": "2024-12-07T20:00:39.576461Z",
     "start_time": "2024-12-07T20:00:39.564081Z"
    }
   },
   "cell_type": "code",
   "source": [
    "#test all days in 1 month (definitive)\n",
    "test_single_month = determine_days_to_call(12, 6, 2024)\n",
    "print(test_single_month)\n",
    "if test_single_month[0] == (5, 6, 2024) and test_single_month[-1] == (19, 6, 2024):\n",
    "    print(\"Test Passed\")\n",
    "else: print(\"Test Failed\")"
   ],
   "id": "8bc56ba3efa6efb1",
   "outputs": [
    {
     "name": "stdout",
     "output_type": "stream",
     "text": [
      "[(5, 6, 2024), (6, 6, 2024), (7, 6, 2024), (8, 6, 2024), (9, 6, 2024), (10, 6, 2024), (11, 6, 2024), (12, 6, 2024), (13, 6, 2024), (14, 6, 2024), (15, 6, 2024), (16, 6, 2024), (17, 6, 2024), (18, 6, 2024), (19, 6, 2024)]\n",
      "Test Passed\n"
     ]
    }
   ],
   "execution_count": 1818
  },
  {
   "metadata": {
    "ExecuteTime": {
     "end_time": "2024-12-07T20:00:39.643518Z",
     "start_time": "2024-12-07T20:00:39.636114Z"
    }
   },
   "cell_type": "code",
   "source": [
    "month_lookbehind = determine_days_to_call(2, 6, 2024)\n",
    "print(month_lookbehind)\n",
    "if month_lookbehind[0] == (26, 5, 2024) and month_lookbehind[-1] == (9, 6, 2024):\n",
    "    print(\"Test Passed\")\n",
    "else:\n",
    "    print(\"Test Failed\")"
   ],
   "id": "c497832993f0eefc",
   "outputs": [
    {
     "name": "stdout",
     "output_type": "stream",
     "text": [
      "[(26, 5, 2024), (27, 5, 2024), (28, 5, 2024), (29, 5, 2024), (30, 5, 2024), (31, 5, 2024), (1, 6, 2024), (2, 6, 2024), (3, 6, 2024), (4, 6, 2024), (5, 6, 2024), (6, 6, 2024), (7, 6, 2024), (8, 6, 2024), (9, 6, 2024)]\n",
      "Test Passed\n"
     ]
    }
   ],
   "execution_count": 1819
  },
  {
   "metadata": {
    "ExecuteTime": {
     "end_time": "2024-12-07T20:00:39.679907Z",
     "start_time": "2024-12-07T20:00:39.668089Z"
    }
   },
   "cell_type": "code",
   "source": [
    "# prior_month_days = []\n",
    "# current_month_days = []\n",
    "# current_month = month_lookbehind[1]\n",
    "# prior_month = month_lookbehind[1] - 1\n",
    "# #splitting into 2 ranges - 1 for each month\n",
    "# for i in month_lookbehind[0]:\n",
    "#     if i >= 1:\n",
    "#         current_month_days.append(i)\n",
    "#     else:\n",
    "#         prior_month_days.append(i)\n",
    "# #defining range of current month\n",
    "# current_month_range = range(current_month_days[0], current_month_days[-1] + 1)\n",
    "# current_month_range_ready = all_days_in_1_month(current_month_range, current_month, 2024)\n",
    "# #prepping an empty list for output\n",
    "# output = []\n",
    "# #-1 from the current  month = 31 from the prior month\n",
    "# #cleaning up and making a good range\n",
    "# prior_month_start = prior_month_days[0]\n",
    "# prior_month_end = month_length[str(prior_month)]\n",
    "# pm_range_start = prior_month_end + prior_month_start\n",
    "# prior_month_range = range(pm_range_start, prior_month_end + 1)\n",
    "# prior_month_range_ready = all_days_in_1_month(prior_month_range, prior_month, 2024)\n",
    "# #appending the prior month range into the output\n",
    "# for i in prior_month_range_ready:\n",
    "#     output.append(i)\n",
    "# #appending the current month range into the output\n",
    "# for i in current_month_range_ready:\n",
    "#     output.append(i)"
   ],
   "id": "a8e1af07efb77ec7",
   "outputs": [],
   "execution_count": 1820
  },
  {
   "metadata": {
    "ExecuteTime": {
     "end_time": "2024-12-07T20:00:39.712432Z",
     "start_time": "2024-12-07T20:00:39.708540Z"
    }
   },
   "cell_type": "code",
   "source": [
    "# prior_month_start = prior_month_days[0]\n",
    "# prior_month_end = month_length[str(prior_month)]\n",
    "# pm_range_start = prior_month_end + prior_month_start\n",
    "# prior_month_range = range(pm_range_start, prior_month_end + 1)\n",
    "# prior_month_range_ready = all_days_in_1_month(prior_month_range, prior_month, 2024)\n",
    "# for i in prior_month_range_ready:\n",
    "#     output.append(i)"
   ],
   "id": "74ce4c813b574d99",
   "outputs": [],
   "execution_count": 1821
  },
  {
   "metadata": {
    "ExecuteTime": {
     "end_time": "2024-12-07T20:00:39.728997Z",
     "start_time": "2024-12-07T20:00:39.726238Z"
    }
   },
   "cell_type": "code",
   "source": "",
   "id": "20de16bcd7d2937a",
   "outputs": [],
   "execution_count": null
  },
  {
   "metadata": {
    "ExecuteTime": {
     "end_time": "2024-12-07T20:00:39.735216Z",
     "start_time": "2024-12-07T20:00:39.728997Z"
    }
   },
   "cell_type": "code",
   "source": "",
   "id": "2dca5eb9901592ff",
   "outputs": [],
   "execution_count": null
  },
  {
   "metadata": {
    "ExecuteTime": {
     "end_time": "2024-12-07T20:00:39.759680Z",
     "start_time": "2024-12-07T20:00:39.756254Z"
    }
   },
   "cell_type": "code",
   "source": "",
   "id": "f8d46338963274bc",
   "outputs": [],
   "execution_count": null
  }
 ],
 "metadata": {
  "kernelspec": {
   "display_name": "Python 3",
   "language": "python",
   "name": "python3"
  },
  "language_info": {
   "codemirror_mode": {
    "name": "ipython",
    "version": 2
   },
   "file_extension": ".py",
   "mimetype": "text/x-python",
   "name": "python",
   "nbconvert_exporter": "python",
   "pygments_lexer": "ipython2",
   "version": "2.7.6"
  }
 },
 "nbformat": 4,
 "nbformat_minor": 5
}
